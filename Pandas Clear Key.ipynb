{
 "cells": [
  {
   "cell_type": "code",
   "execution_count": 1,
   "id": "c201a7f9",
   "metadata": {},
   "outputs": [],
   "source": [
    "import pandas as pd"
   ]
  },
  {
   "cell_type": "markdown",
   "id": "3945d852",
   "metadata": {},
   "source": [
    "# creating data set"
   ]
  },
  {
   "cell_type": "code",
   "execution_count": 13,
   "id": "c70ae17b",
   "metadata": {},
   "outputs": [
    {
     "data": {
      "text/html": [
       "<div>\n",
       "<style scoped>\n",
       "    .dataframe tbody tr th:only-of-type {\n",
       "        vertical-align: middle;\n",
       "    }\n",
       "\n",
       "    .dataframe tbody tr th {\n",
       "        vertical-align: top;\n",
       "    }\n",
       "\n",
       "    .dataframe thead th {\n",
       "        text-align: right;\n",
       "    }\n",
       "</style>\n",
       "<table border=\"1\" class=\"dataframe\">\n",
       "  <thead>\n",
       "    <tr style=\"text-align: right;\">\n",
       "      <th></th>\n",
       "      <th>age</th>\n",
       "      <th>sex</th>\n",
       "    </tr>\n",
       "  </thead>\n",
       "  <tbody>\n",
       "    <tr>\n",
       "      <th>0</th>\n",
       "      <td>25</td>\n",
       "      <td>male</td>\n",
       "    </tr>\n",
       "    <tr>\n",
       "      <th>1</th>\n",
       "      <td>23</td>\n",
       "      <td>female</td>\n",
       "    </tr>\n",
       "    <tr>\n",
       "      <th>2</th>\n",
       "      <td>18</td>\n",
       "      <td>male</td>\n",
       "    </tr>\n",
       "  </tbody>\n",
       "</table>\n",
       "</div>"
      ],
      "text/plain": [
       "   age     sex\n",
       "0   25    male\n",
       "1   23  female\n",
       "2   18    male"
      ]
     },
     "execution_count": 13,
     "metadata": {},
     "output_type": "execute_result"
    }
   ],
   "source": [
    "#two object in pandas are DataFrame,series\n",
    "a=pd.DataFrame({\"age\":[25,23,18],\"sex\":['male','female','male']})\n",
    "a.head()"
   ]
  },
  {
   "cell_type": "code",
   "execution_count": 16,
   "id": "50633281",
   "metadata": {},
   "outputs": [
    {
     "data": {
      "text/html": [
       "<div>\n",
       "<style scoped>\n",
       "    .dataframe tbody tr th:only-of-type {\n",
       "        vertical-align: middle;\n",
       "    }\n",
       "\n",
       "    .dataframe tbody tr th {\n",
       "        vertical-align: top;\n",
       "    }\n",
       "\n",
       "    .dataframe thead th {\n",
       "        text-align: right;\n",
       "    }\n",
       "</style>\n",
       "<table border=\"1\" class=\"dataframe\">\n",
       "  <thead>\n",
       "    <tr style=\"text-align: right;\">\n",
       "      <th></th>\n",
       "      <th>age</th>\n",
       "      <th>sex</th>\n",
       "    </tr>\n",
       "  </thead>\n",
       "  <tbody>\n",
       "    <tr>\n",
       "      <th>first</th>\n",
       "      <td>25</td>\n",
       "      <td>male</td>\n",
       "    </tr>\n",
       "    <tr>\n",
       "      <th>second</th>\n",
       "      <td>23</td>\n",
       "      <td>female</td>\n",
       "    </tr>\n",
       "    <tr>\n",
       "      <th>third</th>\n",
       "      <td>18</td>\n",
       "      <td>male</td>\n",
       "    </tr>\n",
       "  </tbody>\n",
       "</table>\n",
       "</div>"
      ],
      "text/plain": [
       "        age     sex\n",
       "first    25    male\n",
       "second   23  female\n",
       "third    18    male"
      ]
     },
     "execution_count": 16,
     "metadata": {},
     "output_type": "execute_result"
    }
   ],
   "source": [
    "# to give a various index\n",
    "b=pd.DataFrame({\"age\":[25,23,18],\"sex\":['male','female','male']},index=['first','second','third'])\n",
    "b.head()"
   ]
  },
  {
   "cell_type": "code",
   "execution_count": 18,
   "id": "f5eff94f",
   "metadata": {},
   "outputs": [
    {
     "data": {
      "text/plain": [
       "0    1\n",
       "1    2\n",
       "2    3\n",
       "3    4\n",
       "4    5\n",
       "dtype: int64"
      ]
     },
     "execution_count": 18,
     "metadata": {},
     "output_type": "execute_result"
    }
   ],
   "source": [
    "c=pd.Series([1,2,3,4,5])\n",
    "c.head()"
   ]
  },
  {
   "cell_type": "code",
   "execution_count": 20,
   "id": "b2b4754e",
   "metadata": {},
   "outputs": [
    {
     "data": {
      "text/plain": [
       "sale 2021    20\n",
       "sale 2022    23\n",
       "sale 2023    30\n",
       "sale 2024    40\n",
       "sale 2025    50\n",
       "Name: product A, dtype: int64"
      ]
     },
     "execution_count": 20,
     "metadata": {},
     "output_type": "execute_result"
    }
   ],
   "source": [
    "#However, a Series does not have a column name, it only has one overall name\n",
    "d=pd.Series([20,23,30,40,50],index=['sale 2021','sale 2022','sale 2023','sale 2024','sale 2025'], name='product A')\n",
    "d.head()"
   ]
  },
  {
   "cell_type": "markdown",
   "id": "c553d5e7",
   "metadata": {},
   "source": [
    "# Reading Data File"
   ]
  },
  {
   "cell_type": "code",
   "execution_count": 22,
   "id": "a14b9667",
   "metadata": {},
   "outputs": [],
   "source": [
    "#\"Comma-Separated Values\", or CSV.\n",
    "#dset=pd.read_csv(\"../input/wine-reviews/winemag-data-130k-v2.csv\")\n",
    "#dset.shape\n",
    "#dset.head()"
   ]
  },
  {
   "cell_type": "code",
   "execution_count": null,
   "id": "baea2758",
   "metadata": {},
   "outputs": [],
   "source": [
    "#To make pandas use that column for the index (instead of creating a new one from scratch), we can specify an index_col.\n",
    "#wine_reviews = pd.read_csv(\"../input/wine-reviews/winemag-data-130k-v2.csv\", index_col=0)\n",
    "#wine_reviews.head()"
   ]
  }
 ],
 "metadata": {
  "kernelspec": {
   "display_name": "Python 3 (ipykernel)",
   "language": "python",
   "name": "python3"
  },
  "language_info": {
   "codemirror_mode": {
    "name": "ipython",
    "version": 3
   },
   "file_extension": ".py",
   "mimetype": "text/x-python",
   "name": "python",
   "nbconvert_exporter": "python",
   "pygments_lexer": "ipython3",
   "version": "3.9.12"
  }
 },
 "nbformat": 4,
 "nbformat_minor": 5
}
